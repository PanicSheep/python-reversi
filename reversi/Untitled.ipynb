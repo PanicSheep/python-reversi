{
 "cells": [
  {
   "cell_type": "code",
   "execution_count": 1,
   "id": "5359295e-23bf-47fa-aee5-a0f7d98df7d8",
   "metadata": {
    "tags": []
   },
   "outputs": [
    {
     "name": "stdout",
     "output_type": "stream",
     "text": [
      "Requirement already satisfied: numpy in c:\\users\\dominic\\jupyterlab\\lib\\site-packages (1.24.3)\n",
      "Requirement already satisfied: Pillow in c:\\users\\dominic\\jupyterlab\\lib\\site-packages (9.5.0)\n"
     ]
    }
   ],
   "source": [
    "!pip install numpy\n",
    "!pip install Pillow"
   ]
  },
  {
   "cell_type": "code",
   "execution_count": 2,
   "id": "7302638a-66f1-4753-b6eb-36fcf968b83f",
   "metadata": {
    "tags": []
   },
   "outputs": [
    {
     "data": {
      "image/png": "[encoded data removed]",
      "text/plain": [
       "<PIL.Image.Image image mode=RGB size=160x160>"
      ]
     },
     "execution_count": 2,
     "metadata": {},
     "output_type": "execute_result"
    }
   ],
   "source": [
    "import sys\n",
    "import os\n",
    "sys.path.insert(0, r'C:\\Users\\Dominic\\source\\repos\\python-reversi')\n",
    "from reversi import *\n",
    "game = Game()\n",
    "game.current_position.png"
   ]
  },
  {
   "cell_type": "code",
   "execution_count": 3,
   "id": "92042240-a367-42c6-9588-a25042fc4de0",
   "metadata": {
    "tags": []
   },
   "outputs": [
    {
     "data": {
      "image/png": "[encoded data removed]",
      "text/plain": [
       "<PIL.Image.Image image mode=RGB size=160x160>"
      ]
     },
     "execution_count": 3,
     "metadata": {},
     "output_type": "execute_result"
    }
   ],
   "source": [
    "game.play('G8')\n",
    "game.current_position.png"
   ]
  },
  {
   "cell_type": "code",
   "execution_count": 4,
   "id": "1420bde8-e9f6-4c8e-929a-0bb2598043d5",
   "metadata": {
    "tags": []
   },
   "outputs": [
    {
     "data": {
      "image/png": "[encoded data removed]",
      "text/plain": [
       "<PIL.Image.Image image mode=RGB size=160x160>"
      ]
     },
     "execution_count": 4,
     "metadata": {},
     "output_type": "execute_result"
    }
   ],
   "source": [
    "game.play('D3')\n",
    "game.current_position.png"
   ]
  },
  {
   "cell_type": "code",
   "execution_count": 8,
   "id": "c49bbdc1-d84e-4560-8eef-4879b2e430dd",
   "metadata": {
    "tags": []
   },
   "outputs": [
    {
     "name": "stdout",
     "output_type": "stream",
     "text": [
      "Player: 3\n",
      "Opponent: 3\n",
      "Empties: 58\n",
      "Moves: 5\n"
     ]
    }
   ],
   "source": [
    "print(game.statistics)"
   ]
  },
  {
   "cell_type": "code",
   "execution_count": 7,
   "id": "8a3cd149-f49f-496e-8c29-5847d76a5b37",
   "metadata": {
    "tags": []
   },
   "outputs": [
    {
     "name": "stdout",
     "output_type": "stream",
     "text": [
      "  A B C D E F G H  \n",
      "1 - - - - - - - - 1\n",
      "2 - - + + - - - - 2\n",
      "3 - - - O - - - - 3\n",
      "4 - - + O X - - - 4\n",
      "5 - - - X O + - - 5\n",
      "6 - - - - + - - - 6\n",
      "7 - - - - - - - - 7\n",
      "8 - - - - - - X - 8\n",
      "  A B C D E F G H  \n"
     ]
    }
   ],
   "source": [
    "print(game.current_position.multi_line_string())"
   ]
  }
 ],
 "metadata": {
  "kernelspec": {
   "display_name": "Python 3 (ipykernel)",
   "language": "python",
   "name": "python3"
  },
  "language_info": {
   "codemirror_mode": {
    "name": "ipython",
    "version": 3
   },
   "file_extension": ".py",
   "mimetype": "text/x-python",
   "name": "python",
   "nbconvert_exporter": "python",
   "pygments_lexer": "ipython3",
   "version": "3.8.10"
  }
 },
 "nbformat": 4,
 "nbformat_minor": 5
}
